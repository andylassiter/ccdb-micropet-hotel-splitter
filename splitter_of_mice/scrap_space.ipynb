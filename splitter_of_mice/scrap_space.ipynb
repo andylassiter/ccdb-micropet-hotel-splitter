{
 "cells": [
  {
   "cell_type": "code",
   "execution_count": null,
   "metadata": {},
   "outputs": [],
   "source": [
    "for i in range(1,len(images_test_ct)):\n",
    "    print(\"test CT image \",str(i))\n",
    "    s=SoM(images_test_ct[i])\n",
    "    if s.pi is None:\n",
    "        print (images_test_ct[i], ': unknown image modality' )\n",
    "        continue\n",
    "    s.split_mice_ct('/home/wustl/mmilchenko/temp',save_analyze=True,output_qc=True)\n",
    "    continue\n",
    "    \n",
    "    pi=s.pi\n",
    "    rt='/home/wustl/mmilchenko/temp/test'+str(i)\n",
    "    #SoM.write_analyze(pi,rt+'.img')\n",
    "    print('z_compress')\n",
    "    #imz0: нормальная cумма всѣхъ бинарныхъ сѣченій. imz: открытая область (бинарная)\n",
    "    imz0,imz=SoM.z_compress_ct(pi,50)\n",
    "    print('detect_animals_ct')\n",
    "    blobs_labels,num=SoM.detect_animals_ct(imz,0.1)\n",
    "    #now split.\n",
    "    rects=SoM.get_valid_regs(blobs_labels)\n",
    "    cuts=SoM.split_coords(imz,rects,1)\n",
    "    cuts=SoM.refine_cuts_ct(cuts,imz)\n",
    "    \n",
    "    ims=SoM.add_cuts_to_image(pi,cuts,None)\n",
    "    im=SoM.qc_image(pi,blobs_labels,cuts,'/home/wustl/mmilchenko/temp')\n",
    "    SoM.display_pil_image(im)\n",
    "    pi.clean_cuts(); pi.unload_image()"
   ]
  },
  {
   "cell_type": "code",
   "execution_count": null,
   "metadata": {},
   "outputs": [],
   "source": [
    "for i in range(0,len(images_test)):\n",
    "    print('test PET image ',str(i))\n",
    "    s=SoM(images_test[i])\n",
    "    if s.pi is None:\n",
    "        print( images_test[i], ': unknown image modality' )\n",
    "        continue\n",
    "    s.split_mice_pet('/home/wustl/mmilchenko/temp1',save_analyze=True,output_qc=True)"
   ]
  }
 ],
 "metadata": {
  "kernelspec": {
   "display_name": "Python 3",
   "language": "python",
   "name": "python3"
  },
  "language_info": {
   "codemirror_mode": {
    "name": "ipython",
    "version": 3
   },
   "file_extension": ".py",
   "mimetype": "text/x-python",
   "name": "python",
   "nbconvert_exporter": "python",
   "pygments_lexer": "ipython3",
   "version": "3.6.4"
  }
 },
 "nbformat": 4,
 "nbformat_minor": 2
}
